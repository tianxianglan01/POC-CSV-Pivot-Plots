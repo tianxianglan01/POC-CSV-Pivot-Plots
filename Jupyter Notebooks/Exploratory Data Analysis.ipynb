{
 "cells": [
  {
   "cell_type": "markdown",
   "id": "813a5b2a",
   "metadata": {},
   "source": [
    "## Objective 1:\n",
    "- compute latitude deciles and count the number of events of each type, nationwide per decile per month\n",
    "- these will be saved in a CSV file with 120 rows (one per decile per month) and one column per event type\n",
    "\n",
    "## Objective 2:\n",
    "- Count the number of event types (snow, rain, etc.) per state per month for **severe events only**\n",
    "- Save these in a CSV file with one column per event type and (50 states x 12 months = 600) rows\n",
    "- Name this file severe_by_state_by_month.csv.\n",
    "\n",
    "### Personal Notes\n",
    "\n",
    "#### General:\n",
    "- it goes without saying the data analysis scripts are \"general\" scripts in that they **should all be capable of working on all three partitions**\n",
    "\n",
    "#### Objective 1:\n",
    "- there are 12 months in a year\n",
    "- one decile means splitting a 'piece' into equal tenths\n",
    "- so for the month of January, there will be ie:\n",
    "Jan 0.0\n",
    "Jan 0.1\n",
    "Jan 0.2\n",
    "...\n",
    "Jan 1.0\n",
    "- where floats equate to 0.1 * the value between the min and max values of the recorded weather event's latitude\n",
    "\n",
    "#### Objective 2:"
   ]
  },
  {
   "cell_type": "code",
   "execution_count": null,
   "id": "fba66dc6",
   "metadata": {},
   "outputs": [],
   "source": [
    "import pandas as pd"
   ]
  },
  {
   "cell_type": "code",
   "execution_count": null,
   "id": "db9121a0",
   "metadata": {},
   "outputs": [],
   "source": []
  }
 ],
 "metadata": {
  "kernelspec": {
   "display_name": "Python 3 (ipykernel)",
   "language": "python",
   "name": "python3"
  },
  "language_info": {
   "codemirror_mode": {
    "name": "ipython",
    "version": 3
   },
   "file_extension": ".py",
   "mimetype": "text/x-python",
   "name": "python",
   "nbconvert_exporter": "python",
   "pygments_lexer": "ipython3",
   "version": "3.9.6"
  }
 },
 "nbformat": 4,
 "nbformat_minor": 5
}
